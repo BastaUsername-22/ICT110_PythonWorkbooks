{
  "cells": [
    {
      "cell_type": "markdown",
      "metadata": {
        "id": "0W6K2Alc0jid"
      },
      "source": [
        "# EXERCISE 1"
      ]
    },
    {
      "cell_type": "markdown",
      "metadata": {
        "id": "Bl68f6Nh1pXP"
      },
      "source": [
        "Given the code below    \n",
        "\n",
        "    text = 'Business Analytics'\n",
        "\n",
        "What will the following expressions produce?\n",
        "    \n",
        "    text[4]\n",
        "    text[2:4]\n",
        "    text[:4]\n",
        "    text[4:]\n",
        "    text[-2]\n",
        "    text[-4:-2]\n",
        "    text[-2:]\n",
        "    text[:-2]\n",
        "    "
      ]
    },
    {
      "cell_type": "code",
      "execution_count": 5,
      "metadata": {
        "colab": {
          "base_uri": "https://localhost:8080/"
        },
        "id": "6_h49EUX1afH",
        "outputId": "b34ebe04-37a3-4656-ab07-1978b9e305ad"
      },
      "outputs": [
        {
          "name": "stdout",
          "output_type": "stream",
          "text": [
            "n\n",
            "si\n",
            "Busi\n",
            "ness Analytics\n",
            "c\n",
            "ti\n",
            "cs\n",
            "Business Analyti\n"
          ]
        }
      ],
      "source": [
        "text = 'Business Analytics'\n",
        "\n",
        "print(text[4])\n",
        "print(text[2:4])\n",
        "print(text[:4])\n",
        "print(text[4:])\n",
        "print(text[-2])\n",
        "print(text[-4:-2])\n",
        "print(text[-2:])\n",
        "print(text[:-2])"
      ]
    },
    {
      "cell_type": "markdown",
      "metadata": {
        "id": "7qiojdVJ2nNa"
      },
      "source": [
        "# EXERCISE 2"
      ]
    },
    {
      "cell_type": "markdown",
      "metadata": {
        "id": "OqSWrAvq3B-_"
      },
      "source": [
        "Given the code below:\n",
        "    \n",
        "    phrase = 'One Ring to rule them all'\n",
        "\n",
        "What string slicing expression gives out the following words:\n",
        "\n",
        "    'One '\n",
        "    'Ring'\n",
        "    'all'\n",
        "    'them'\n",
        "    'One Ring to rule them all'"
      ]
    },
    {
      "cell_type": "code",
      "execution_count": 15,
      "metadata": {
        "colab": {
          "base_uri": "https://localhost:8080/"
        },
        "id": "9OuDkCL63H_O",
        "outputId": "5f21bd64-b1d9-4740-f428-0b13d6d3a721"
      },
      "outputs": [
        {
          "name": "stdout",
          "output_type": "stream",
          "text": [
            "One \n",
            "Ring\n",
            "all\n",
            "them\n",
            "One Ring to rule them all\n"
          ]
        }
      ],
      "source": [
        "phrase = 'One Ring to rule them all'\n",
        "\n",
        "print(phrase[:4])\n",
        "print(phrase[4:8])\n",
        "print(phrase[22:25])\n",
        "print(phrase[17:21])\n",
        "print(phrase)"
      ]
    },
    {
      "cell_type": "markdown",
      "metadata": {
        "id": "BN-jgJ4a4riv"
      },
      "source": [
        "# CHALLENGE"
      ]
    },
    {
      "cell_type": "markdown",
      "metadata": {
        "id": "AeqmnvSY4xc-"
      },
      "source": [
        "Write a program which repeatedly reads a **full name**, then does the following:\n",
        "- strips the name of any trailing spaces\n",
        "- capitalizes the first letter\n",
        "- puts the rest into smaller letters"
      ]
    },
    {
      "cell_type": "code",
      "execution_count": 4,
      "metadata": {
        "colab": {
          "base_uri": "https://localhost:8080/"
        },
        "id": "z1XDUVHy4yaB",
        "outputId": "e2f3e6b1-1aca-4de3-e9d2-4ac828c737a3"
      },
      "outputs": [],
      "source": [
        "name = input(\"Enter name: \")\n",
        "\n",
        "name = name.rstrip()\n",
        "print(name[0].upper() + name[1:].lower())"
      ]
    }
  ],
  "metadata": {
    "accelerator": "GPU",
    "colab": {
      "gpuType": "T4",
      "provenance": []
    },
    "kernelspec": {
      "display_name": "Python 3",
      "name": "python3"
    },
    "language_info": {
      "codemirror_mode": {
        "name": "ipython",
        "version": 3
      },
      "file_extension": ".py",
      "mimetype": "text/x-python",
      "name": "python",
      "nbconvert_exporter": "python",
      "pygments_lexer": "ipython3",
      "version": "3.12.2"
    }
  },
  "nbformat": 4,
  "nbformat_minor": 0
}
