{
 "cells": [
  {
   "cell_type": "markdown",
   "metadata": {},
   "source": [
    "# EXERCISE 1"
   ]
  },
  {
   "cell_type": "markdown",
   "metadata": {},
   "source": [
    "`Write a program to read through a file and print the contents of the file (line by line) all in upper case.`"
   ]
  },
  {
   "cell_type": "code",
   "execution_count": 3,
   "metadata": {},
   "outputs": [
    {
     "name": "stdout",
     "output_type": "stream",
     "text": [
      "HELLO WORLD\n",
      "WORLD HELLO\n"
     ]
    }
   ],
   "source": [
    "handle = open('words.txt', 'r')\n",
    "file_contents = (handle.read())\n",
    "print(file_contents.upper())"
   ]
  },
  {
   "cell_type": "markdown",
   "metadata": {},
   "source": [
    "# EXERCISE 2"
   ]
  },
  {
   "cell_type": "markdown",
   "metadata": {},
   "source": [
    "`Write a program to read through a file and output the number of lines in a file.`"
   ]
  },
  {
   "cell_type": "code",
   "execution_count": 4,
   "metadata": {},
   "outputs": [
    {
     "name": "stdout",
     "output_type": "stream",
     "text": [
      "2\n"
     ]
    }
   ],
   "source": [
    "handle = open('words.txt', 'r')\n",
    "file_contents = (handle.read())\n",
    "print(len(file_contents.split('\\n')))"
   ]
  },
  {
   "cell_type": "markdown",
   "metadata": {},
   "source": [
    "# CHALLENGE"
   ]
  },
  {
   "cell_type": "markdown",
   "metadata": {},
   "source": [
    "Write a program to prompt for a file name, and then read through the file and look for lines of the form:\n",
    "\n",
    "```\n",
    "X-DSPAM-Confidence: 0.8475\n",
    "```\n",
    "\n",
    "When you encounter a line that starts with \"X-DSPAM-Confidence:\" pull apart the line to extract the floating-point number on the line. Count these lines and then compute the total of the spam confidence values from these lines. When you reach the end of the file, print out the average spam confidence.\n",
    "\n",
    "\n",
    "```\n",
    "Enter the file name: mbox.txt\n",
    "Average spam confidence: 0.894128046745\n",
    "\n",
    "Enter the file name: mbox-short.txt\n",
    "Average spam confidence: 0.750718518519\n",
    "```"
   ]
  },
  {
   "cell_type": "code",
   "execution_count": 1,
   "metadata": {},
   "outputs": [
    {
     "ename": "ValueError",
     "evalue": "could not convert string to float: 'X-DSPAM-Confidence: 0.8475'",
     "output_type": "error",
     "traceback": [
      "\u001b[1;31m---------------------------------------------------------------------------\u001b[0m",
      "\u001b[1;31mValueError\u001b[0m                                Traceback (most recent call last)",
      "Cell \u001b[1;32mIn[1], line 12\u001b[0m\n\u001b[0;32m     10\u001b[0m \u001b[38;5;28;01mfor\u001b[39;00m line \u001b[38;5;129;01min\u001b[39;00m handle:\n\u001b[0;32m     11\u001b[0m     \u001b[38;5;28;01mif\u001b[39;00m line\u001b[38;5;241m.\u001b[39mstartswith(\u001b[38;5;124m\"\u001b[39m\u001b[38;5;124mX-DSPAM-Confidence:\u001b[39m\u001b[38;5;124m\"\u001b[39m):\n\u001b[1;32m---> 12\u001b[0m         spamConfidence \u001b[38;5;241m=\u001b[39m spamConfidence \u001b[38;5;241m+\u001b[39m \u001b[38;5;28;43mfloat\u001b[39;49m\u001b[43m(\u001b[49m\u001b[43mline\u001b[49m\u001b[38;5;241;43m.\u001b[39;49m\u001b[43mstrip\u001b[49m\u001b[43m(\u001b[49m\u001b[43m)\u001b[49m\u001b[43m)\u001b[49m\n\u001b[0;32m     13\u001b[0m         spamConfidenceCount \u001b[38;5;241m=\u001b[39m spamConfidenceCount \u001b[38;5;241m+\u001b[39m \u001b[38;5;241m1\u001b[39m\n\u001b[0;32m     14\u001b[0m \u001b[38;5;28;01mif\u001b[39;00m(spamConfidence \u001b[38;5;241m>\u001b[39m \u001b[38;5;241m0\u001b[39m):\n",
      "\u001b[1;31mValueError\u001b[0m: could not convert string to float: 'X-DSPAM-Confidence: 0.8475'"
     ]
    }
   ],
   "source": [
    "spamConfidence = 0\n",
    "spamConfidenceCount = 0\n",
    "\n",
    "fileName = input(\"Enter the file name: \")\n",
    "try:\n",
    "    handle = open(fileName, 'r')\n",
    "except:\n",
    "    print(\"File does not exist!\")\n",
    "else:\n",
    "    for line in handle:\n",
    "        if line.startswith(\"X-DSPAM-Confidence:\"):\n",
    "            spamConfidence = spamConfidence + float(line.replace(\"X-DSPAM-Confidence:\", \"\").strip())\n",
    "            spamConfidenceCount = spamConfidenceCount + 1\n",
    "    if(spamConfidence > 0):\n",
    "        print(f\"Average spam confidence: {spamConfidence/spamConfidenceCount}\")\n",
    "    else:\n",
    "        print(\"X-DSPAM-Confidence not found!\")\n",
    "\n",
    "handle.close()"
   ]
  }
 ],
 "metadata": {
  "kernelspec": {
   "display_name": "Python 3",
   "language": "python",
   "name": "python3"
  },
  "language_info": {
   "codemirror_mode": {
    "name": "ipython",
    "version": 3
   },
   "file_extension": ".py",
   "mimetype": "text/x-python",
   "name": "python",
   "nbconvert_exporter": "python",
   "pygments_lexer": "ipython3",
   "version": "3.12.2"
  }
 },
 "nbformat": 4,
 "nbformat_minor": 2
}
