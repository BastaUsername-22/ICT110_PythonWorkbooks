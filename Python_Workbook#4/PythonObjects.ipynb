{
 "cells": [
  {
   "cell_type": "markdown",
   "metadata": {},
   "source": [
    "# REVIEW"
   ]
  },
  {
   "cell_type": "markdown",
   "metadata": {
    "vscode": {
     "languageId": "plaintext"
    }
   },
   "source": [
    "1.  Make sure you are familiar with the meaning of the following terms (and the difference among some of them)\n",
    "    - class vs. object vs. instance\n",
    "    - method vs. function\n",
    "    - attribute vs. variable\n",
    "\n",
    "\n",
    "2. Explain the difference in focus and approach of procedural and OOP paradigms\n",
    "\n",
    "\n",
    "3. Explain the advantage of using a class over using modules which only contain a collection of data and functions"
   ]
  },
  {
   "cell_type": "markdown",
   "metadata": {},
   "source": [
    "## ANSWERS"
   ]
  },
  {
   "cell_type": "markdown",
   "metadata": {},
   "source": [
    "1.  Make sure you are familiar with the meaning of the following terms (and the difference among some of them)\n",
    "   - Class vs. Object vs. Instance\n",
    "      * Class - Template which defines the attributes and methods an object should have.\n",
    "      * Object - Instance of a class which copies the attributes and methods of the instantiated class.\n",
    "      * Instance - Refers to the occurence of a class, often used interchangeably with creation of an object.\n",
    "   - Method vs. Function\n",
    "      * Method - A function defined within a class which can be used only by objects or instances of a class.\n",
    "      * Function - A block of code defined outside of a class which can be called to for its definition to run.\n",
    "      * Both method and function have a function name followed by parentheses `()` which can be used to expect an argument.\n",
    "   - Attribute vs. Variable\n",
    "      * Attribute - A variable defined within a class which can be use to store values and used by objects or instances of a class or by the operations within the class itself.\n",
    "      * Variable - A data storage which holds a value of a specific data type which can be accessed throughout the code.\n",
    "\n",
    "2. Explain the difference in focus and approach of procedural and OOP paradigms\n",
    "   - `Procedural programming paradigm` focuses on writing functions whereas `OOP paradigms`, as the name suggests, focuses on object creation. In terms of approach, `procedural programming paradigm` follows a top-down approach or what others may relate to structured programming wherein codes are stacked depending on when it would be used, defining its availability, while `OOP paradigms`, on the other hand, relies heavily on encapsulation, wherein the definition of an object that can be used and instantiated multiple times.\n",
    "\n",
    "3. Explain the advantage of using a class over using modules which only contain a collection of data and functions\n",
    "   - Apart from avoiding file dependencies due to modularity, class provide various advantage compared to using modules. Being under the same file, developers could easily change as well as protect values from class compared to modules. It also allows developers to utilize polymorphism such as having a class inherit multiple classes. Lastly, one best example of the advantage of using class over modules is its namespacing. Using modules would expose the program to possible errors such as similar names."
   ]
  }
 ],
 "metadata": {
  "language_info": {
   "name": "python"
  }
 },
 "nbformat": 4,
 "nbformat_minor": 2
}
