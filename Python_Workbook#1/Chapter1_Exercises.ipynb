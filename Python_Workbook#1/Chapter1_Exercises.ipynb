{
 "cells": [
  {
   "cell_type": "markdown",
   "metadata": {
    "id": "1osQC5HvtxEY"
   },
   "source": [
    "# EXERCISE 1\n",
    "Each line of code below contains an error. Fix the error and explain in a comment the reason for the error."
   ]
  },
  {
   "cell_type": "markdown",
   "metadata": {
    "id": "QME7xUqMs83r"
   },
   "source": [
    "##1. **NameError:** name 'Print' is not defined\n",
    "```\n",
    "Print('Hello world!')\n",
    "```\n"
   ]
  },
  {
   "cell_type": "code",
   "execution_count": null,
   "metadata": {
    "colab": {
     "base_uri": "https://localhost:8080/"
    },
    "executionInfo": {
     "elapsed": 426,
     "status": "ok",
     "timestamp": 1709276605936,
     "user": {
      "displayName": "Kenneth Jan Lopez",
      "userId": "14118585626040704137"
     },
     "user_tz": -480
    },
    "id": "m5vVjqnxsG7-",
    "outputId": "ecd54e27-1573-412c-9dc0-dc58807ff07f"
   },
   "outputs": [
    {
     "name": "stdout",
     "output_type": "stream",
     "text": [
      "Hello world!\n"
     ]
    }
   ],
   "source": [
    "print('Hello world!') # Wrong format of print function. It should be lowercase [P]."
   ]
  },
  {
   "cell_type": "markdown",
   "metadata": {
    "id": "GyFAG-MQtEeE"
   },
   "source": [
    "##2. **SyntaxError:** unmatched ')'\n",
    "```\n",
    "print'Hello world!')\n",
    "```"
   ]
  },
  {
   "cell_type": "code",
   "execution_count": null,
   "metadata": {
    "colab": {
     "base_uri": "https://localhost:8080/"
    },
    "executionInfo": {
     "elapsed": 15,
     "status": "ok",
     "timestamp": 1709276606371,
     "user": {
      "displayName": "Kenneth Jan Lopez",
      "userId": "14118585626040704137"
     },
     "user_tz": -480
    },
    "id": "6jzjBzi5tFmx",
    "outputId": "35e22985-efa6-42de-a646-70d6d88d78a9"
   },
   "outputs": [
    {
     "name": "stdout",
     "output_type": "stream",
     "text": [
      "Hello world!\n"
     ]
    }
   ],
   "source": [
    "print('Hello world!') # Missing open parenthesis [(]."
   ]
  },
  {
   "cell_type": "markdown",
   "metadata": {
    "id": "5DGqDcKJtfko"
   },
   "source": [
    "##3. **SyntaxError:** unterminated string literal (detected at line 1)\n",
    "```\n",
    "print('Hello world!'')\n",
    "```"
   ]
  },
  {
   "cell_type": "code",
   "execution_count": null,
   "metadata": {
    "colab": {
     "base_uri": "https://localhost:8080/"
    },
    "executionInfo": {
     "elapsed": 13,
     "status": "ok",
     "timestamp": 1709276606372,
     "user": {
      "displayName": "Kenneth Jan Lopez",
      "userId": "14118585626040704137"
     },
     "user_tz": -480
    },
    "id": "e54kWO7ttplo",
    "outputId": "e3829110-6d0e-4426-fb28-8633d2dff9e2"
   },
   "outputs": [
    {
     "name": "stdout",
     "output_type": "stream",
     "text": [
      "Hello world!\n"
     ]
    }
   ],
   "source": [
    "print('Hello world!') # Missing close single quotation [']."
   ]
  },
  {
   "cell_type": "markdown",
   "metadata": {
    "id": "7vwWaVkMvc5y"
   },
   "source": [
    "##4. **SyntaxError:** unterminated string literal (detected at line 1)\n",
    "```\n",
    "print('Hello world!'')\n",
    "```"
   ]
  },
  {
   "cell_type": "code",
   "execution_count": null,
   "metadata": {
    "colab": {
     "base_uri": "https://localhost:8080/"
    },
    "executionInfo": {
     "elapsed": 11,
     "status": "ok",
     "timestamp": 1709276606372,
     "user": {
      "displayName": "Kenneth Jan Lopez",
      "userId": "14118585626040704137"
     },
     "user_tz": -480
    },
    "id": "qYpSz10mvt1J",
    "outputId": "f03a487f-98d1-4ae8-e5f5-f88d4eb0e9c5"
   },
   "outputs": [
    {
     "name": "stdout",
     "output_type": "stream",
     "text": [
      "Hello world!\n"
     ]
    }
   ],
   "source": [
    "print('Hello world!') # Excess double quotation [\"]."
   ]
  },
  {
   "cell_type": "markdown",
   "metadata": {
    "id": "pRvOMVXAwcfJ"
   },
   "source": [
    "# EXERCISE 2\n",
    "\n",
    "What is the output of the code below?"
   ]
  },
  {
   "cell_type": "code",
   "execution_count": null,
   "metadata": {
    "colab": {
     "base_uri": "https://localhost:8080/"
    },
    "executionInfo": {
     "elapsed": 9,
     "status": "ok",
     "timestamp": 1709276606372,
     "user": {
      "displayName": "Kenneth Jan Lopez",
      "userId": "14118585626040704137"
     },
     "user_tz": -480
    },
    "id": "8z8yr6dNw1B2",
    "outputId": "8333a302-2df7-41c0-c543-422fd6dfa77c"
   },
   "outputs": [
    {
     "name": "stdout",
     "output_type": "stream",
     "text": [
      "44\n"
     ]
    }
   ],
   "source": [
    "x = 43\n",
    "x = x + 1\n",
    "print(x) # The output is 44"
   ]
  },
  {
   "cell_type": "markdown",
   "metadata": {
    "id": "cBHFnen7w25B"
   },
   "source": [
    "# EXERCISE 3\n",
    "\n",
    "The code below contains an error. Fix the error and explain in a comment the reason for the error."
   ]
  },
  {
   "cell_type": "markdown",
   "metadata": {
    "id": "Nmj2sTgyxWG1"
   },
   "source": [
    "```\n",
    "x = 43\n",
    "x = X + 1\n",
    "print(x)\n",
    "```\n",
    "**NameError:** name 'X' is not defined"
   ]
  },
  {
   "cell_type": "code",
   "execution_count": null,
   "metadata": {
    "colab": {
     "base_uri": "https://localhost:8080/"
    },
    "executionInfo": {
     "elapsed": 8,
     "status": "ok",
     "timestamp": 1709276606372,
     "user": {
      "displayName": "Kenneth Jan Lopez",
      "userId": "14118585626040704137"
     },
     "user_tz": -480
    },
    "id": "UI4c2ZKPxK15",
    "outputId": "fb609678-2bd0-4e72-dd9d-765781e04721"
   },
   "outputs": [
    {
     "name": "stdout",
     "output_type": "stream",
     "text": [
      "44\n"
     ]
    }
   ],
   "source": [
    "x = 43\n",
    "x = x + 1\n",
    "print(x) # Variables are case-sensitive. X (uppercase) is different from x (lowercase). The code uses X instead of x."
   ]
  }
 ],
 "metadata": {
  "colab": {
   "authorship_tag": "ABX9TyNdusRyb+UEqTv54hOlYV8B",
   "collapsed_sections": [
    "1osQC5HvtxEY",
    "pRvOMVXAwcfJ",
    "cBHFnen7w25B"
   ],
   "provenance": []
  },
  "kernelspec": {
   "display_name": "Python 3 (ipykernel)",
   "language": "python",
   "name": "python3"
  },
  "language_info": {
   "codemirror_mode": {
    "name": "ipython",
    "version": 3
   },
   "file_extension": ".py",
   "mimetype": "text/x-python",
   "name": "python",
   "nbconvert_exporter": "python",
   "pygments_lexer": "ipython3",
   "version": "3.11.5"
  }
 },
 "nbformat": 4,
 "nbformat_minor": 1
}
