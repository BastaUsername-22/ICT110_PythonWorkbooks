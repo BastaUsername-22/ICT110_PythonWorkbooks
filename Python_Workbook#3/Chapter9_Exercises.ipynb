{
 "cells": [
  {
   "cell_type": "markdown",
   "metadata": {},
   "source": [
    "# EXERCISE 1"
   ]
  },
  {
   "cell_type": "markdown",
   "metadata": {},
   "source": [
    "Create a dictionary with the following keys and values showing a partial list of Real GDP growth in Annual percent change from IMF\n",
    "\n",
    "    China 6.5\n",
    "    Japan 0.7\n",
    "    Philippines 6.7\n",
    "    United States 2.3"
   ]
  },
  {
   "cell_type": "code",
   "execution_count": 6,
   "metadata": {},
   "outputs": [
    {
     "name": "stdout",
     "output_type": "stream",
     "text": [
      "{'China': 6.5, 'Japan': 0.7, 'Philippines': 6.7, 'United States': 2.3}\n"
     ]
    }
   ],
   "source": [
    "realGDPGrowth = {\n",
    "    'China' : 6.5,\n",
    "    'Japan' : 0.7,\n",
    "    'Philippines' : 6.7,\n",
    "    'United States' : 2.3\n",
    "}\n",
    "\n",
    "print(realGDPGrowth)"
   ]
  },
  {
   "cell_type": "markdown",
   "metadata": {},
   "source": [
    "# EXERCISE 2"
   ]
  },
  {
   "cell_type": "markdown",
   "metadata": {},
   "source": [
    "Display all the keys and values from the dictionary you created above"
   ]
  },
  {
   "cell_type": "code",
   "execution_count": 8,
   "metadata": {},
   "outputs": [
    {
     "name": "stdout",
     "output_type": "stream",
     "text": [
      "{'China': 6.5, 'Japan': 0.7, 'Philippines': 6.7, 'United States': 2.3}\n",
      "dict_keys(['China', 'Japan', 'Philippines', 'United States'])\n",
      "dict_values([6.5, 0.7, 6.7, 2.3])\n"
     ]
    }
   ],
   "source": [
    "realGDPGrowth = {\n",
    "    'China' : 6.5,\n",
    "    'Japan' : 0.7,\n",
    "    'Philippines' : 6.7,\n",
    "    'United States' : 2.3\n",
    "}\n",
    "\n",
    "print(realGDPGrowth)\n",
    "print(realGDPGrowth.keys())\n",
    "print(realGDPGrowth.values())"
   ]
  },
  {
   "cell_type": "markdown",
   "metadata": {},
   "source": [
    "# EXERCISE 3"
   ]
  },
  {
   "cell_type": "markdown",
   "metadata": {},
   "source": [
    "Write a program that asks the user to enter a line of text and then counts the number of each word that appeared in the line of text.\n",
    "Use the string function `split()` to make a list of words from a given string\n",
    "e.g.: \n",
    "\n",
    "```python\n",
    "word_list = line.split()\n",
    "```\n",
    "\n",
    "will return a list of words from the string `line` and store it in the variable `word_list`."
   ]
  },
  {
   "cell_type": "code",
   "execution_count": 11,
   "metadata": {},
   "outputs": [
    {
     "name": "stdout",
     "output_type": "stream",
     "text": [
      "['The', 'quick', 'brown', 'fox']\n",
      "Number of words: 4\n"
     ]
    }
   ],
   "source": [
    "wordsList = []\n",
    "\n",
    "textInput = input(\"Enter a line of text: \")\n",
    "wordsList = textInput.split()\n",
    "print(wordsList)\n",
    "print(f\"Number of words: {len(wordsList)}\")"
   ]
  }
 ],
 "metadata": {
  "kernelspec": {
   "display_name": "Python 3",
   "language": "python",
   "name": "python3"
  },
  "language_info": {
   "codemirror_mode": {
    "name": "ipython",
    "version": 3
   },
   "file_extension": ".py",
   "mimetype": "text/x-python",
   "name": "python",
   "nbconvert_exporter": "python",
   "pygments_lexer": "ipython3",
   "version": "3.12.2"
  }
 },
 "nbformat": 4,
 "nbformat_minor": 2
}
